{
  "nbformat": 4,
  "nbformat_minor": 0,
  "metadata": {
    "colab": {
      "name": "pytorch-course-1.ipynb",
      "provenance": [],
      "collapsed_sections": [],
      "toc_visible": true
    },
    "kernelspec": {
      "name": "python3",
      "display_name": "Python 3"
    }
  },
  "cells": [
    {
      "cell_type": "markdown",
      "metadata": {
        "id": "Pt2ECIXSH4R_"
      },
      "source": [
        "# Importação das bibliotecas necessárias"
      ]
    },
    {
      "cell_type": "code",
      "metadata": {
        "id": "mHiG9GpZfFKF"
      },
      "source": [
        "import torch\n",
        "import torch.nn as nn\n",
        "from torch import optim\n",
        "import matplotlib.pyplot as plt\n",
        "import numpy as np\n",
        "import pandas as pd\n",
        "from sklearn.datasets import load_boston\n",
        "from sklearn.preprocessing import StandardScaler\n",
        "from sklearn.model_selection import train_test_split\n",
        "from sklearn.metrics import mean_squared_error, roc_auc_score"
      ],
      "execution_count": null,
      "outputs": []
    },
    {
      "cell_type": "markdown",
      "metadata": {
        "id": "J7TO_jgOJv7e"
      },
      "source": [
        "# Desenvolvimento da regressão logística "
      ]
    },
    {
      "cell_type": "code",
      "metadata": {
        "id": "IaJi568nY6lX",
        "colab": {
          "base_uri": "https://localhost:8080/"
        },
        "outputId": "1d05ca8b-68b4-4b34-ce46-5f07a2a06976"
      },
      "source": [
        "data = load_boston()\n",
        "housing_dataset = pd.DataFrame(data[\"data\"], columns=data[\"feature_names\"])\n",
        "housing_dataset[\"TARGET\"] = data[\"target\"]\n",
        "housing_dataset.head()"
      ],
      "execution_count": null,
      "outputs": [
        {
          "output_type": "execute_result",
          "data": {
            "text/html": [
              "<div>\n",
              "<style scoped>\n",
              "    .dataframe tbody tr th:only-of-type {\n",
              "        vertical-align: middle;\n",
              "    }\n",
              "\n",
              "    .dataframe tbody tr th {\n",
              "        vertical-align: top;\n",
              "    }\n",
              "\n",
              "    .dataframe thead th {\n",
              "        text-align: right;\n",
              "    }\n",
              "</style>\n",
              "<table border=\"1\" class=\"dataframe\">\n",
              "  <thead>\n",
              "    <tr style=\"text-align: right;\">\n",
              "      <th></th>\n",
              "      <th>CRIM</th>\n",
              "      <th>ZN</th>\n",
              "      <th>INDUS</th>\n",
              "      <th>CHAS</th>\n",
              "      <th>NOX</th>\n",
              "      <th>RM</th>\n",
              "      <th>AGE</th>\n",
              "      <th>DIS</th>\n",
              "      <th>RAD</th>\n",
              "      <th>TAX</th>\n",
              "      <th>PTRATIO</th>\n",
              "      <th>B</th>\n",
              "      <th>LSTAT</th>\n",
              "      <th>TARGET</th>\n",
              "    </tr>\n",
              "  </thead>\n",
              "  <tbody>\n",
              "    <tr>\n",
              "      <th>0</th>\n",
              "      <td>0.00632</td>\n",
              "      <td>18.0</td>\n",
              "      <td>2.31</td>\n",
              "      <td>0.0</td>\n",
              "      <td>0.538</td>\n",
              "      <td>6.575</td>\n",
              "      <td>65.2</td>\n",
              "      <td>4.0900</td>\n",
              "      <td>1.0</td>\n",
              "      <td>296.0</td>\n",
              "      <td>15.3</td>\n",
              "      <td>396.90</td>\n",
              "      <td>4.98</td>\n",
              "      <td>24.0</td>\n",
              "    </tr>\n",
              "    <tr>\n",
              "      <th>1</th>\n",
              "      <td>0.02731</td>\n",
              "      <td>0.0</td>\n",
              "      <td>7.07</td>\n",
              "      <td>0.0</td>\n",
              "      <td>0.469</td>\n",
              "      <td>6.421</td>\n",
              "      <td>78.9</td>\n",
              "      <td>4.9671</td>\n",
              "      <td>2.0</td>\n",
              "      <td>242.0</td>\n",
              "      <td>17.8</td>\n",
              "      <td>396.90</td>\n",
              "      <td>9.14</td>\n",
              "      <td>21.6</td>\n",
              "    </tr>\n",
              "    <tr>\n",
              "      <th>2</th>\n",
              "      <td>0.02729</td>\n",
              "      <td>0.0</td>\n",
              "      <td>7.07</td>\n",
              "      <td>0.0</td>\n",
              "      <td>0.469</td>\n",
              "      <td>7.185</td>\n",
              "      <td>61.1</td>\n",
              "      <td>4.9671</td>\n",
              "      <td>2.0</td>\n",
              "      <td>242.0</td>\n",
              "      <td>17.8</td>\n",
              "      <td>392.83</td>\n",
              "      <td>4.03</td>\n",
              "      <td>34.7</td>\n",
              "    </tr>\n",
              "    <tr>\n",
              "      <th>3</th>\n",
              "      <td>0.03237</td>\n",
              "      <td>0.0</td>\n",
              "      <td>2.18</td>\n",
              "      <td>0.0</td>\n",
              "      <td>0.458</td>\n",
              "      <td>6.998</td>\n",
              "      <td>45.8</td>\n",
              "      <td>6.0622</td>\n",
              "      <td>3.0</td>\n",
              "      <td>222.0</td>\n",
              "      <td>18.7</td>\n",
              "      <td>394.63</td>\n",
              "      <td>2.94</td>\n",
              "      <td>33.4</td>\n",
              "    </tr>\n",
              "    <tr>\n",
              "      <th>4</th>\n",
              "      <td>0.06905</td>\n",
              "      <td>0.0</td>\n",
              "      <td>2.18</td>\n",
              "      <td>0.0</td>\n",
              "      <td>0.458</td>\n",
              "      <td>7.147</td>\n",
              "      <td>54.2</td>\n",
              "      <td>6.0622</td>\n",
              "      <td>3.0</td>\n",
              "      <td>222.0</td>\n",
              "      <td>18.7</td>\n",
              "      <td>396.90</td>\n",
              "      <td>5.33</td>\n",
              "      <td>36.2</td>\n",
              "    </tr>\n",
              "  </tbody>\n",
              "</table>\n",
              "</div>"
            ],
            "text/plain": [
              "      CRIM    ZN  INDUS  CHAS    NOX  ...    TAX  PTRATIO       B  LSTAT  TARGET\n",
              "0  0.00632  18.0   2.31   0.0  0.538  ...  296.0     15.3  396.90   4.98    24.0\n",
              "1  0.02731   0.0   7.07   0.0  0.469  ...  242.0     17.8  396.90   9.14    21.6\n",
              "2  0.02729   0.0   7.07   0.0  0.469  ...  242.0     17.8  392.83   4.03    34.7\n",
              "3  0.03237   0.0   2.18   0.0  0.458  ...  222.0     18.7  394.63   2.94    33.4\n",
              "4  0.06905   0.0   2.18   0.0  0.458  ...  222.0     18.7  396.90   5.33    36.2\n",
              "\n",
              "[5 rows x 14 columns]"
            ]
          },
          "metadata": {
            "tags": []
          },
          "execution_count": 2
        }
      ]
    },
    {
      "cell_type": "code",
      "metadata": {
        "id": "yI3Bkr0HrN4v"
      },
      "source": [
        "#Esqueleto do modelo\n",
        "class Model(nn.Module):\n",
        "  def __init__(self):\n",
        "    super().__init__()\n",
        "    pass\n",
        "\n",
        "  def forward(self, x):\n",
        "    pass"
      ],
      "execution_count": null,
      "outputs": []
    },
    {
      "cell_type": "code",
      "metadata": {
        "id": "fg_3iWNzZOnu"
      },
      "source": [
        "#Modelo de regressão linear\n",
        "class LinearModel(nn.Module):\n",
        "  def __init__(self, num_features, num_outputs):\n",
        "    super().__init__()\n",
        "    self.linear = nn.Linear(num_features, num_outputs)\n",
        "\n",
        "  def forward(self, x):\n",
        "    return self.linear(x)"
      ],
      "execution_count": null,
      "outputs": []
    },
    {
      "cell_type": "code",
      "metadata": {
        "id": "vR519lS2btFq"
      },
      "source": [
        "#Obtenção de dados de treino e validação e normalização\n",
        "x_train, x_val, y_train, y_val = train_test_split(housing_dataset.drop(columns=\"TARGET\").values, \n",
        "                                                  housing_dataset[\"TARGET\"].values, \n",
        "                                                  test_size=0.20, \n",
        "                                                  random_state=0)\n",
        "SC = StandardScaler()\n",
        "x_train = SC.fit_transform(x_train)\n",
        "x_val = SC.transform(x_val)"
      ],
      "execution_count": null,
      "outputs": []
    },
    {
      "cell_type": "code",
      "metadata": {
        "id": "U3labRFrt-hP"
      },
      "source": [
        "def train_validate_model(model, loss_fn, metric, lr, epochs, data_train, data_val):\n",
        "  \"\"\"\n",
        "  This function train and validate a neural network.\n",
        "\n",
        "  Parameters :\n",
        "  ------------\n",
        "\n",
        "  model : PyTorch model\n",
        "    PyTorch model to train\n",
        "  loss : .backward() compatible loss function\n",
        "    loss function to train the model\n",
        "  lr : float\n",
        "    learning rate value\n",
        "  epochs : int\n",
        "    number of training epochs\n",
        "  data_train : list\n",
        "    list that contais in position 0 x_train data and in position 1 y_train\n",
        "  data_val : list\n",
        "    list that contais in position 0 x_val data and in position 1 y_val\n",
        "  metric :  metric function\n",
        "    metric to be applied in the results\n",
        "\n",
        "  Returns : pd.DataFrame\n",
        "    This functions returns the information generated during training about loss\n",
        "    and metric.\n",
        "  \"\"\"\n",
        "  loss_epoch_train = np.zeros(epochs)\n",
        "  loss_epoch_val = np.zeros(epochs)\n",
        "  metric_epoch_train = np.zeros(epochs)\n",
        "  metric_epoch_val = np.zeros(epochs)\n",
        "  optimizer = optim.Adam(model.parameters(), lr=lr)\n",
        "  loss = loss_fn\n",
        "  for e in range(epochs):\n",
        "    optimizer.zero_grad()\n",
        "    y_predicted = model(torch.tensor(data_train[0]).float())\n",
        "    loss_value = loss(y_predicted, torch.tensor(data_train[1].reshape(-1, 1)).float())\n",
        "    loss_value.backward()\n",
        "    optimizer.step()\n",
        "    loss_epoch_train[e] = loss_value.item()\n",
        "    metric_epoch_train[e] = metric(data_train[1], y_predicted.detach().numpy().reshape(-1))\n",
        "    with torch.no_grad():\n",
        "      y_predicted = model(torch.tensor(data_val[0]).float())\n",
        "      loss_value = loss(y_predicted, torch.tensor(data_val[1].reshape(-1, 1)).float())\n",
        "      loss_epoch_val[e] = loss_value.item()\n",
        "      metric_epoch_val[e] = metric(data_val[1], y_predicted.detach().numpy().reshape(-1))\n",
        "  return pd.DataFrame(data={\"Epoch\":np.arange(0, epochs), \n",
        "                            \"Train loss\": loss_epoch_train, \n",
        "                            \"Train metric\": metric_epoch_train, \n",
        "                            \"Val loss\": loss_epoch_val,\n",
        "                            \"Val metric\": metric_epoch_val})"
      ],
      "execution_count": null,
      "outputs": []
    },
    {
      "cell_type": "code",
      "metadata": {
        "id": "ZNG6Y58kc_qF"
      },
      "source": [
        "LR = LinearModel(13, 1)\n",
        "df = train_validate_model(LR, nn.MSELoss(), mean_squared_error, 1, 100, [x_train, y_train], [x_val, y_val])"
      ],
      "execution_count": null,
      "outputs": []
    },
    {
      "cell_type": "markdown",
      "metadata": {
        "id": "FH9hNq9lIL8g"
      },
      "source": [
        "# Análise dos resultados - Regressão linear"
      ]
    },
    {
      "cell_type": "code",
      "metadata": {
        "colab": {
          "base_uri": "https://localhost:8080/"
        },
        "id": "P2emHZVUILDG",
        "outputId": "426384a5-1f95-4814-c5d4-edc1a1105ef3"
      },
      "source": [
        "df.head()"
      ],
      "execution_count": null,
      "outputs": [
        {
          "output_type": "execute_result",
          "data": {
            "text/html": [
              "<div>\n",
              "<style scoped>\n",
              "    .dataframe tbody tr th:only-of-type {\n",
              "        vertical-align: middle;\n",
              "    }\n",
              "\n",
              "    .dataframe tbody tr th {\n",
              "        vertical-align: top;\n",
              "    }\n",
              "\n",
              "    .dataframe thead th {\n",
              "        text-align: right;\n",
              "    }\n",
              "</style>\n",
              "<table border=\"1\" class=\"dataframe\">\n",
              "  <thead>\n",
              "    <tr style=\"text-align: right;\">\n",
              "      <th></th>\n",
              "      <th>Epoch</th>\n",
              "      <th>Train loss</th>\n",
              "      <th>Train metric</th>\n",
              "      <th>Val loss</th>\n",
              "      <th>Val metric</th>\n",
              "    </tr>\n",
              "  </thead>\n",
              "  <tbody>\n",
              "    <tr>\n",
              "      <th>0</th>\n",
              "      <td>0</td>\n",
              "      <td>593.183899</td>\n",
              "      <td>593.183854</td>\n",
              "      <td>539.549683</td>\n",
              "      <td>539.549661</td>\n",
              "    </tr>\n",
              "    <tr>\n",
              "      <th>1</th>\n",
              "      <td>1</td>\n",
              "      <td>504.464020</td>\n",
              "      <td>504.464082</td>\n",
              "      <td>534.534302</td>\n",
              "      <td>534.534281</td>\n",
              "    </tr>\n",
              "    <tr>\n",
              "      <th>2</th>\n",
              "      <td>2</td>\n",
              "      <td>476.246857</td>\n",
              "      <td>476.246827</td>\n",
              "      <td>474.610748</td>\n",
              "      <td>474.610782</td>\n",
              "    </tr>\n",
              "    <tr>\n",
              "      <th>3</th>\n",
              "      <td>3</td>\n",
              "      <td>421.808929</td>\n",
              "      <td>421.808946</td>\n",
              "      <td>403.204346</td>\n",
              "      <td>403.204365</td>\n",
              "    </tr>\n",
              "    <tr>\n",
              "      <th>4</th>\n",
              "      <td>4</td>\n",
              "      <td>365.509125</td>\n",
              "      <td>365.509140</td>\n",
              "      <td>349.798584</td>\n",
              "      <td>349.798605</td>\n",
              "    </tr>\n",
              "  </tbody>\n",
              "</table>\n",
              "</div>"
            ],
            "text/plain": [
              "   Epoch  Train loss  Train metric    Val loss  Val metric\n",
              "0      0  593.183899    593.183854  539.549683  539.549661\n",
              "1      1  504.464020    504.464082  534.534302  534.534281\n",
              "2      2  476.246857    476.246827  474.610748  474.610782\n",
              "3      3  421.808929    421.808946  403.204346  403.204365\n",
              "4      4  365.509125    365.509140  349.798584  349.798605"
            ]
          },
          "metadata": {
            "tags": []
          },
          "execution_count": 8
        }
      ]
    },
    {
      "cell_type": "code",
      "metadata": {
        "colab": {
          "base_uri": "https://localhost:8080/",
          "height": 295
        },
        "id": "XOHruwQMIPpQ",
        "outputId": "38161434-1ec4-493e-92c1-2d0866f12152"
      },
      "source": [
        "plt.plot(df[\"Epoch\"], df[\"Train loss\"])\n",
        "plt.plot(df[\"Epoch\"], df[\"Val loss\"])\n",
        "plt.title(\"Loss evolution\")\n",
        "plt.ylabel(\"Loss\")\n",
        "plt.xlabel(\"Epoch\")\n",
        "plt.show()"
      ],
      "execution_count": null,
      "outputs": [
        {
          "output_type": "display_data",
          "data": {
            "image/png": "[encoded data removed]",
            "text/plain": [
              "<Figure size 432x288 with 1 Axes>"
            ]
          },
          "metadata": {
            "tags": [],
            "needs_background": "light"
          }
        }
      ]
    },
    {
      "cell_type": "code",
      "metadata": {
        "colab": {
          "base_uri": "https://localhost:8080/",
          "height": 295
        },
        "id": "qyQI34YRIcZJ",
        "outputId": "f0a877c5-8f3b-4a13-dd30-8ebce9882f7c"
      },
      "source": [
        "plt.plot(df[\"Epoch\"], df[\"Train metric\"])\n",
        "plt.plot(df[\"Epoch\"], df[\"Val metric\"])\n",
        "plt.title(\"Metric evolution\")\n",
        "plt.ylabel(\"Metric\")\n",
        "plt.xlabel(\"Epoch\")\n",
        "plt.show()"
      ],
      "execution_count": null,
      "outputs": [
        {
          "output_type": "display_data",
          "data": {
            "image/png": "[encoded data removed]",
            "text/plain": [
              "<Figure size 432x288 with 1 Axes>"
            ]
          },
          "metadata": {
            "tags": [],
            "needs_background": "light"
          }
        }
      ]
    }
  ]
}