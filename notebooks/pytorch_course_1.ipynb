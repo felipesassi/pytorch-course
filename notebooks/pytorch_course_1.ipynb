{
  "nbformat": 4,
  "nbformat_minor": 0,
  "metadata": {
    "colab": {
      "name": "pytorch-course-1.ipynb",
      "provenance": [],
      "collapsed_sections": [],
      "toc_visible": true
    },
    "kernelspec": {
      "name": "python3",
      "display_name": "Python 3"
    }
  },
  "cells": [
    {
      "cell_type": "markdown",
      "metadata": {
        "id": "Pt2ECIXSH4R_"
      },
      "source": [
        "# Importação das bibliotecas necessárias"
      ]
    },
    {
      "cell_type": "code",
      "metadata": {
        "id": "mHiG9GpZfFKF"
      },
      "source": [
        "import torch\n",
        "import torch.nn as nn\n",
        "from torch import optim\n",
        "import matplotlib.pyplot as plt\n",
        "import numpy as np\n",
        "import pandas as pd\n",
        "from sklearn.datasets import load_boston\n",
        "from sklearn.preprocessing import StandardScaler\n",
        "from sklearn.model_selection import train_test_split\n",
        "from sklearn.metrics import mean_squared_error, roc_auc_score"
      ],
      "execution_count": 1,
      "outputs": []
    },
    {
      "cell_type": "markdown",
      "metadata": {
        "id": "J7TO_jgOJv7e"
      },
      "source": [
        "# Desenvolvimento da regressão logística "
      ]
    },
    {
      "cell_type": "code",
      "metadata": {
        "id": "IaJi568nY6lX",
        "colab": {
          "base_uri": "https://localhost:8080/",
          "height": 204
        },
        "outputId": "ab39071a-97d0-4c43-c44d-f4412f2c2381"
      },
      "source": [
        "data = load_boston()\n",
        "housing_dataset = pd.DataFrame(data[\"data\"], columns=data[\"feature_names\"])\n",
        "housing_dataset[\"TARGET\"] = data[\"target\"]\n",
        "housing_dataset.head()"
      ],
      "execution_count": 2,
      "outputs": [
        {
          "output_type": "execute_result",
          "data": {
            "text/html": [
              "<div>\n",
              "<style scoped>\n",
              "    .dataframe tbody tr th:only-of-type {\n",
              "        vertical-align: middle;\n",
              "    }\n",
              "\n",
              "    .dataframe tbody tr th {\n",
              "        vertical-align: top;\n",
              "    }\n",
              "\n",
              "    .dataframe thead th {\n",
              "        text-align: right;\n",
              "    }\n",
              "</style>\n",
              "<table border=\"1\" class=\"dataframe\">\n",
              "  <thead>\n",
              "    <tr style=\"text-align: right;\">\n",
              "      <th></th>\n",
              "      <th>CRIM</th>\n",
              "      <th>ZN</th>\n",
              "      <th>INDUS</th>\n",
              "      <th>CHAS</th>\n",
              "      <th>NOX</th>\n",
              "      <th>RM</th>\n",
              "      <th>AGE</th>\n",
              "      <th>DIS</th>\n",
              "      <th>RAD</th>\n",
              "      <th>TAX</th>\n",
              "      <th>PTRATIO</th>\n",
              "      <th>B</th>\n",
              "      <th>LSTAT</th>\n",
              "      <th>TARGET</th>\n",
              "    </tr>\n",
              "  </thead>\n",
              "  <tbody>\n",
              "    <tr>\n",
              "      <th>0</th>\n",
              "      <td>0.00632</td>\n",
              "      <td>18.0</td>\n",
              "      <td>2.31</td>\n",
              "      <td>0.0</td>\n",
              "      <td>0.538</td>\n",
              "      <td>6.575</td>\n",
              "      <td>65.2</td>\n",
              "      <td>4.0900</td>\n",
              "      <td>1.0</td>\n",
              "      <td>296.0</td>\n",
              "      <td>15.3</td>\n",
              "      <td>396.90</td>\n",
              "      <td>4.98</td>\n",
              "      <td>24.0</td>\n",
              "    </tr>\n",
              "    <tr>\n",
              "      <th>1</th>\n",
              "      <td>0.02731</td>\n",
              "      <td>0.0</td>\n",
              "      <td>7.07</td>\n",
              "      <td>0.0</td>\n",
              "      <td>0.469</td>\n",
              "      <td>6.421</td>\n",
              "      <td>78.9</td>\n",
              "      <td>4.9671</td>\n",
              "      <td>2.0</td>\n",
              "      <td>242.0</td>\n",
              "      <td>17.8</td>\n",
              "      <td>396.90</td>\n",
              "      <td>9.14</td>\n",
              "      <td>21.6</td>\n",
              "    </tr>\n",
              "    <tr>\n",
              "      <th>2</th>\n",
              "      <td>0.02729</td>\n",
              "      <td>0.0</td>\n",
              "      <td>7.07</td>\n",
              "      <td>0.0</td>\n",
              "      <td>0.469</td>\n",
              "      <td>7.185</td>\n",
              "      <td>61.1</td>\n",
              "      <td>4.9671</td>\n",
              "      <td>2.0</td>\n",
              "      <td>242.0</td>\n",
              "      <td>17.8</td>\n",
              "      <td>392.83</td>\n",
              "      <td>4.03</td>\n",
              "      <td>34.7</td>\n",
              "    </tr>\n",
              "    <tr>\n",
              "      <th>3</th>\n",
              "      <td>0.03237</td>\n",
              "      <td>0.0</td>\n",
              "      <td>2.18</td>\n",
              "      <td>0.0</td>\n",
              "      <td>0.458</td>\n",
              "      <td>6.998</td>\n",
              "      <td>45.8</td>\n",
              "      <td>6.0622</td>\n",
              "      <td>3.0</td>\n",
              "      <td>222.0</td>\n",
              "      <td>18.7</td>\n",
              "      <td>394.63</td>\n",
              "      <td>2.94</td>\n",
              "      <td>33.4</td>\n",
              "    </tr>\n",
              "    <tr>\n",
              "      <th>4</th>\n",
              "      <td>0.06905</td>\n",
              "      <td>0.0</td>\n",
              "      <td>2.18</td>\n",
              "      <td>0.0</td>\n",
              "      <td>0.458</td>\n",
              "      <td>7.147</td>\n",
              "      <td>54.2</td>\n",
              "      <td>6.0622</td>\n",
              "      <td>3.0</td>\n",
              "      <td>222.0</td>\n",
              "      <td>18.7</td>\n",
              "      <td>396.90</td>\n",
              "      <td>5.33</td>\n",
              "      <td>36.2</td>\n",
              "    </tr>\n",
              "  </tbody>\n",
              "</table>\n",
              "</div>"
            ],
            "text/plain": [
              "      CRIM    ZN  INDUS  CHAS    NOX  ...    TAX  PTRATIO       B  LSTAT  TARGET\n",
              "0  0.00632  18.0   2.31   0.0  0.538  ...  296.0     15.3  396.90   4.98    24.0\n",
              "1  0.02731   0.0   7.07   0.0  0.469  ...  242.0     17.8  396.90   9.14    21.6\n",
              "2  0.02729   0.0   7.07   0.0  0.469  ...  242.0     17.8  392.83   4.03    34.7\n",
              "3  0.03237   0.0   2.18   0.0  0.458  ...  222.0     18.7  394.63   2.94    33.4\n",
              "4  0.06905   0.0   2.18   0.0  0.458  ...  222.0     18.7  396.90   5.33    36.2\n",
              "\n",
              "[5 rows x 14 columns]"
            ]
          },
          "metadata": {
            "tags": []
          },
          "execution_count": 2
        }
      ]
    },
    {
      "cell_type": "code",
      "metadata": {
        "id": "yI3Bkr0HrN4v"
      },
      "source": [
        "#Esqueleto do modelo\n",
        "class Model(nn.Module):\n",
        "  def __init__(self):\n",
        "    super().__init__()\n",
        "    pass\n",
        "\n",
        "  def forward(self, x):\n",
        "    pass"
      ],
      "execution_count": 3,
      "outputs": []
    },
    {
      "cell_type": "code",
      "metadata": {
        "id": "fg_3iWNzZOnu"
      },
      "source": [
        "#Modelo de regressão linear\n",
        "class LinearModel(nn.Module):\n",
        "  def __init__(self, x_shape, y_shape):\n",
        "    super().__init__()\n",
        "    self.linear = nn.Linear(x_shape, y_shape)\n",
        "\n",
        "  def forward(self, x):\n",
        "    return self.linear(x)"
      ],
      "execution_count": 4,
      "outputs": []
    },
    {
      "cell_type": "code",
      "metadata": {
        "id": "vR519lS2btFq"
      },
      "source": [
        "#Obtenção de dados de treino e validação e normalização\n",
        "x_train, x_val, y_train, y_val = train_test_split(housing_dataset.drop(columns=\"TARGET\").values, \n",
        "                                                  housing_dataset[\"TARGET\"].values, \n",
        "                                                  test_size=0.20, \n",
        "                                                  random_state=0)\n",
        "SC = StandardScaler()\n",
        "x_train = SC.fit_transform(x_train)\n",
        "x_val = SC.transform(x_val)"
      ],
      "execution_count": 5,
      "outputs": []
    },
    {
      "cell_type": "code",
      "metadata": {
        "id": "U3labRFrt-hP"
      },
      "source": [
        "def train_validate_model(model, loss_fn, metric, lr, epochs, data_train, data_val):\n",
        "  \"\"\"\n",
        "  This function train and validate a neural network.\n",
        "\n",
        "  Parameters :\n",
        "  ------------\n",
        "\n",
        "  model : PyTorch model\n",
        "    PyTorch model to train\n",
        "  loss : .backward() compatible loss function\n",
        "    loss function to train the model\n",
        "  lr : float\n",
        "    learning rate value\n",
        "  epochs : int\n",
        "    number of training epochs\n",
        "  data_train : list\n",
        "    list that contais in position 0 x_train data and in position 1 y_train\n",
        "  data_val : list\n",
        "    list that contais in position 0 x_val data and in position 1 y_val\n",
        "  metric :  metric function\n",
        "    metric to be applied in the results\n",
        "\n",
        "  Returns : pd.DataFrame\n",
        "    This functions returns the information generated during training about loss\n",
        "    and metric.\n",
        "  \"\"\"\n",
        "  loss_epoch_train = np.zeros(epochs)\n",
        "  loss_epoch_val = np.zeros(epochs)\n",
        "  metric_epoch_train = np.zeros(epochs)\n",
        "  metric_epoch_val = np.zeros(epochs)\n",
        "  optimizer = optim.Adam(model.parameters(), lr=lr)\n",
        "  loss = loss_fn\n",
        "  for e in range(epochs):\n",
        "    optimizer.zero_grad()\n",
        "    y_predicted = model(torch.tensor(data_train[0]).float())\n",
        "    loss_value = loss(y_predicted, torch.tensor(data_train[1].reshape(-1, 1)).float())\n",
        "    loss_value.backward()\n",
        "    optimizer.step()\n",
        "    loss_epoch_train[e] = loss_value.item()\n",
        "    metric_epoch_train[e] = metric(data_train[1], y_predicted.detach().numpy().reshape(-1))\n",
        "    with torch.no_grad():\n",
        "      y_predicted = model(torch.tensor(data_val[0]).float())\n",
        "      loss_value = loss(y_predicted, torch.tensor(data_val[1].reshape(-1, 1)).float())\n",
        "      loss_epoch_val[e] = loss_value.item()\n",
        "      metric_epoch_val[e] = metric(data_val[1], y_predicted.detach().numpy().reshape(-1))\n",
        "  return pd.DataFrame(data={\"Epoch\":np.arange(0, epochs), \n",
        "                            \"Train loss\": loss_epoch_train, \n",
        "                            \"Train metric\": metric_epoch_train, \n",
        "                            \"Val loss\": loss_epoch_val,\n",
        "                            \"Val metric\": metric_epoch_val})"
      ],
      "execution_count": 6,
      "outputs": []
    },
    {
      "cell_type": "code",
      "metadata": {
        "id": "ZNG6Y58kc_qF"
      },
      "source": [
        "LR = LinearModel(13, 1)\n",
        "df = train_validate_model(LR, nn.MSELoss(), mean_squared_error, 1, 100, [x_train, y_train], [x_val, y_val])"
      ],
      "execution_count": 7,
      "outputs": []
    },
    {
      "cell_type": "markdown",
      "metadata": {
        "id": "FH9hNq9lIL8g"
      },
      "source": [
        "# Análise dos resultados - Regressão linear"
      ]
    },
    {
      "cell_type": "code",
      "metadata": {
        "colab": {
          "base_uri": "https://localhost:8080/",
          "height": 204
        },
        "id": "P2emHZVUILDG",
        "outputId": "295b3eb8-aab8-4e08-b50a-e535f928c801"
      },
      "source": [
        "df.head()"
      ],
      "execution_count": 8,
      "outputs": [
        {
          "output_type": "execute_result",
          "data": {
            "text/html": [
              "<div>\n",
              "<style scoped>\n",
              "    .dataframe tbody tr th:only-of-type {\n",
              "        vertical-align: middle;\n",
              "    }\n",
              "\n",
              "    .dataframe tbody tr th {\n",
              "        vertical-align: top;\n",
              "    }\n",
              "\n",
              "    .dataframe thead th {\n",
              "        text-align: right;\n",
              "    }\n",
              "</style>\n",
              "<table border=\"1\" class=\"dataframe\">\n",
              "  <thead>\n",
              "    <tr style=\"text-align: right;\">\n",
              "      <th></th>\n",
              "      <th>Epoch</th>\n",
              "      <th>Train loss</th>\n",
              "      <th>Train metric</th>\n",
              "      <th>Val loss</th>\n",
              "      <th>Val metric</th>\n",
              "    </tr>\n",
              "  </thead>\n",
              "  <tbody>\n",
              "    <tr>\n",
              "      <th>0</th>\n",
              "      <td>0</td>\n",
              "      <td>601.575623</td>\n",
              "      <td>601.575593</td>\n",
              "      <td>566.171448</td>\n",
              "      <td>566.171430</td>\n",
              "    </tr>\n",
              "    <tr>\n",
              "      <th>1</th>\n",
              "      <td>1</td>\n",
              "      <td>523.306946</td>\n",
              "      <td>523.306932</td>\n",
              "      <td>549.033203</td>\n",
              "      <td>549.033209</td>\n",
              "    </tr>\n",
              "    <tr>\n",
              "      <th>2</th>\n",
              "      <td>2</td>\n",
              "      <td>489.541931</td>\n",
              "      <td>489.541928</td>\n",
              "      <td>481.940857</td>\n",
              "      <td>481.940895</td>\n",
              "    </tr>\n",
              "    <tr>\n",
              "      <th>3</th>\n",
              "      <td>3</td>\n",
              "      <td>431.774445</td>\n",
              "      <td>431.774473</td>\n",
              "      <td>413.038330</td>\n",
              "      <td>413.038350</td>\n",
              "    </tr>\n",
              "    <tr>\n",
              "      <th>4</th>\n",
              "      <td>4</td>\n",
              "      <td>379.345032</td>\n",
              "      <td>379.345057</td>\n",
              "      <td>365.231323</td>\n",
              "      <td>365.231317</td>\n",
              "    </tr>\n",
              "  </tbody>\n",
              "</table>\n",
              "</div>"
            ],
            "text/plain": [
              "   Epoch  Train loss  Train metric    Val loss  Val metric\n",
              "0      0  601.575623    601.575593  566.171448  566.171430\n",
              "1      1  523.306946    523.306932  549.033203  549.033209\n",
              "2      2  489.541931    489.541928  481.940857  481.940895\n",
              "3      3  431.774445    431.774473  413.038330  413.038350\n",
              "4      4  379.345032    379.345057  365.231323  365.231317"
            ]
          },
          "metadata": {
            "tags": []
          },
          "execution_count": 8
        }
      ]
    },
    {
      "cell_type": "code",
      "metadata": {
        "colab": {
          "base_uri": "https://localhost:8080/",
          "height": 295
        },
        "id": "XOHruwQMIPpQ",
        "outputId": "d56387ae-6dd8-4a17-c6c4-43f69c7fdcf7"
      },
      "source": [
        "plt.plot(df[\"Epoch\"], df[\"Train loss\"])\n",
        "plt.plot(df[\"Epoch\"], df[\"Val loss\"])\n",
        "plt.title(\"Loss evolution\")\n",
        "plt.ylabel(\"Loss\")\n",
        "plt.xlabel(\"Epoch\")\n",
        "plt.show()"
      ],
      "execution_count": 9,
      "outputs": [
        {
          "output_type": "display_data",
          "data": {
            "image/png": "[encoded data removed]",
            "text/plain": [
              "<Figure size 432x288 with 1 Axes>"
            ]
          },
          "metadata": {
            "tags": [],
            "needs_background": "light"
          }
        }
      ]
    },
    {
      "cell_type": "code",
      "metadata": {
        "colab": {
          "base_uri": "https://localhost:8080/",
          "height": 295
        },
        "id": "qyQI34YRIcZJ",
        "outputId": "4f992df0-de49-4aca-f2e6-113e787bed64"
      },
      "source": [
        "plt.plot(df[\"Epoch\"], df[\"Train metric\"])\n",
        "plt.plot(df[\"Epoch\"], df[\"Val metric\"])\n",
        "plt.title(\"Metric evolution\")\n",
        "plt.ylabel(\"Metric\")\n",
        "plt.xlabel(\"Epoch\")\n",
        "plt.show()"
      ],
      "execution_count": 10,
      "outputs": [
        {
          "output_type": "display_data",
          "data": {
            "image/png": "[encoded data removed]",
            "text/plain": [
              "<Figure size 432x288 with 1 Axes>"
            ]
          },
          "metadata": {
            "tags": [],
            "needs_background": "light"
          }
        }
      ]
    },
    {
      "cell_type": "markdown",
      "metadata": {
        "id": "ojUIzEaigYtU"
      },
      "source": [
        "# Desenvolvimento da regressão logística "
      ]
    },
    {
      "cell_type": "code",
      "metadata": {
        "colab": {
          "base_uri": "https://localhost:8080/",
          "height": 204
        },
        "id": "TdKVoa6hlE6I",
        "outputId": "cf16dbb4-8865-4476-b2d8-7c1725dcb47b"
      },
      "source": [
        "# diabetes_dataset = pd.read_csv(\"data/diabetes.csv\")\n",
        "diabetes_dataset = pd.read_csv(\"..data/diabetes.csv\")\n",
        "diabetes_dataset.head()"
      ],
      "execution_count": 11,
      "outputs": [
        {
          "output_type": "execute_result",
          "data": {
            "text/html": [
              "<div>\n",
              "<style scoped>\n",
              "    .dataframe tbody tr th:only-of-type {\n",
              "        vertical-align: middle;\n",
              "    }\n",
              "\n",
              "    .dataframe tbody tr th {\n",
              "        vertical-align: top;\n",
              "    }\n",
              "\n",
              "    .dataframe thead th {\n",
              "        text-align: right;\n",
              "    }\n",
              "</style>\n",
              "<table border=\"1\" class=\"dataframe\">\n",
              "  <thead>\n",
              "    <tr style=\"text-align: right;\">\n",
              "      <th></th>\n",
              "      <th>Pregnancies</th>\n",
              "      <th>Glucose</th>\n",
              "      <th>BloodPressure</th>\n",
              "      <th>SkinThickness</th>\n",
              "      <th>Insulin</th>\n",
              "      <th>BMI</th>\n",
              "      <th>DiabetesPedigreeFunction</th>\n",
              "      <th>Age</th>\n",
              "      <th>Outcome</th>\n",
              "    </tr>\n",
              "  </thead>\n",
              "  <tbody>\n",
              "    <tr>\n",
              "      <th>0</th>\n",
              "      <td>6</td>\n",
              "      <td>148</td>\n",
              "      <td>72</td>\n",
              "      <td>35</td>\n",
              "      <td>0</td>\n",
              "      <td>33.6</td>\n",
              "      <td>0.627</td>\n",
              "      <td>50</td>\n",
              "      <td>1</td>\n",
              "    </tr>\n",
              "    <tr>\n",
              "      <th>1</th>\n",
              "      <td>1</td>\n",
              "      <td>85</td>\n",
              "      <td>66</td>\n",
              "      <td>29</td>\n",
              "      <td>0</td>\n",
              "      <td>26.6</td>\n",
              "      <td>0.351</td>\n",
              "      <td>31</td>\n",
              "      <td>0</td>\n",
              "    </tr>\n",
              "    <tr>\n",
              "      <th>2</th>\n",
              "      <td>8</td>\n",
              "      <td>183</td>\n",
              "      <td>64</td>\n",
              "      <td>0</td>\n",
              "      <td>0</td>\n",
              "      <td>23.3</td>\n",
              "      <td>0.672</td>\n",
              "      <td>32</td>\n",
              "      <td>1</td>\n",
              "    </tr>\n",
              "    <tr>\n",
              "      <th>3</th>\n",
              "      <td>1</td>\n",
              "      <td>89</td>\n",
              "      <td>66</td>\n",
              "      <td>23</td>\n",
              "      <td>94</td>\n",
              "      <td>28.1</td>\n",
              "      <td>0.167</td>\n",
              "      <td>21</td>\n",
              "      <td>0</td>\n",
              "    </tr>\n",
              "    <tr>\n",
              "      <th>4</th>\n",
              "      <td>0</td>\n",
              "      <td>137</td>\n",
              "      <td>40</td>\n",
              "      <td>35</td>\n",
              "      <td>168</td>\n",
              "      <td>43.1</td>\n",
              "      <td>2.288</td>\n",
              "      <td>33</td>\n",
              "      <td>1</td>\n",
              "    </tr>\n",
              "  </tbody>\n",
              "</table>\n",
              "</div>"
            ],
            "text/plain": [
              "   Pregnancies  Glucose  BloodPressure  ...  DiabetesPedigreeFunction  Age  Outcome\n",
              "0            6      148             72  ...                     0.627   50        1\n",
              "1            1       85             66  ...                     0.351   31        0\n",
              "2            8      183             64  ...                     0.672   32        1\n",
              "3            1       89             66  ...                     0.167   21        0\n",
              "4            0      137             40  ...                     2.288   33        1\n",
              "\n",
              "[5 rows x 9 columns]"
            ]
          },
          "metadata": {
            "tags": []
          },
          "execution_count": 11
        }
      ]
    },
    {
      "cell_type": "code",
      "metadata": {
        "id": "tcbOmB1qgXm6"
      },
      "source": [
        "#Modelo de regressão logística\n",
        "class LogisticModel(nn.Module):\n",
        "  def __init__(self, x_shape, y_shape):\n",
        "    super().__init__()\n",
        "    self.linear = nn.Linear(x_shape, y_shape)\n",
        "\n",
        "  def forward(self, x):\n",
        "    x = self.linear(x)\n",
        "    return torch.sigmoid(x)"
      ],
      "execution_count": 12,
      "outputs": []
    },
    {
      "cell_type": "code",
      "metadata": {
        "id": "Y1oxIjWPgzZg"
      },
      "source": [
        "#Obtenção de dados de treino e validação e normalização\n",
        "x_train, x_val, y_train, y_val = train_test_split(diabetes_dataset.drop(columns=[\"Outcome\"]).values, \n",
        "                                                  diabetes_dataset[\"Outcome\"].values, \n",
        "                                                  test_size=0.20,\n",
        "                                                  stratify=diabetes_dataset[\"Outcome\"].values, \n",
        "                                                  random_state=0)\n",
        "SC = StandardScaler()\n",
        "x_train = SC.fit_transform(x_train)\n",
        "x_val = SC.transform(x_val)"
      ],
      "execution_count": 13,
      "outputs": []
    },
    {
      "cell_type": "code",
      "metadata": {
        "id": "y_sUjdkXgrM1"
      },
      "source": [
        "LR = LogisticModel(8, 1)\n",
        "df = train_validate_model(LR, nn.BCELoss(), roc_auc_score, 0.01, 250, [x_train, y_train], [x_val, y_val])"
      ],
      "execution_count": 14,
      "outputs": []
    },
    {
      "cell_type": "markdown",
      "metadata": {
        "id": "su_H0V30KErJ"
      },
      "source": [
        "# Análise dos resultados - Regressão logística"
      ]
    },
    {
      "cell_type": "code",
      "metadata": {
        "colab": {
          "base_uri": "https://localhost:8080/",
          "height": 204
        },
        "id": "O59HD33bKJWi",
        "outputId": "90bd250a-c0d2-4a20-e16c-b58d873e3bf4"
      },
      "source": [
        "df.head()"
      ],
      "execution_count": 15,
      "outputs": [
        {
          "output_type": "execute_result",
          "data": {
            "text/html": [
              "<div>\n",
              "<style scoped>\n",
              "    .dataframe tbody tr th:only-of-type {\n",
              "        vertical-align: middle;\n",
              "    }\n",
              "\n",
              "    .dataframe tbody tr th {\n",
              "        vertical-align: top;\n",
              "    }\n",
              "\n",
              "    .dataframe thead th {\n",
              "        text-align: right;\n",
              "    }\n",
              "</style>\n",
              "<table border=\"1\" class=\"dataframe\">\n",
              "  <thead>\n",
              "    <tr style=\"text-align: right;\">\n",
              "      <th></th>\n",
              "      <th>Epoch</th>\n",
              "      <th>Train loss</th>\n",
              "      <th>Train metric</th>\n",
              "      <th>Val loss</th>\n",
              "      <th>Val metric</th>\n",
              "    </tr>\n",
              "  </thead>\n",
              "  <tbody>\n",
              "    <tr>\n",
              "      <th>0</th>\n",
              "      <td>0</td>\n",
              "      <td>0.783524</td>\n",
              "      <td>0.322886</td>\n",
              "      <td>0.785642</td>\n",
              "      <td>0.283148</td>\n",
              "    </tr>\n",
              "    <tr>\n",
              "      <th>1</th>\n",
              "      <td>1</td>\n",
              "      <td>0.771992</td>\n",
              "      <td>0.331717</td>\n",
              "      <td>0.773360</td>\n",
              "      <td>0.296296</td>\n",
              "    </tr>\n",
              "    <tr>\n",
              "      <th>2</th>\n",
              "      <td>2</td>\n",
              "      <td>0.760850</td>\n",
              "      <td>0.342243</td>\n",
              "      <td>0.761511</td>\n",
              "      <td>0.308889</td>\n",
              "    </tr>\n",
              "    <tr>\n",
              "      <th>3</th>\n",
              "      <td>3</td>\n",
              "      <td>0.750107</td>\n",
              "      <td>0.353470</td>\n",
              "      <td>0.750104</td>\n",
              "      <td>0.321481</td>\n",
              "    </tr>\n",
              "    <tr>\n",
              "      <th>4</th>\n",
              "      <td>4</td>\n",
              "      <td>0.739771</td>\n",
              "      <td>0.366121</td>\n",
              "      <td>0.739146</td>\n",
              "      <td>0.336852</td>\n",
              "    </tr>\n",
              "  </tbody>\n",
              "</table>\n",
              "</div>"
            ],
            "text/plain": [
              "   Epoch  Train loss  Train metric  Val loss  Val metric\n",
              "0      0    0.783524      0.322886  0.785642    0.283148\n",
              "1      1    0.771992      0.331717  0.773360    0.296296\n",
              "2      2    0.760850      0.342243  0.761511    0.308889\n",
              "3      3    0.750107      0.353470  0.750104    0.321481\n",
              "4      4    0.739771      0.366121  0.739146    0.336852"
            ]
          },
          "metadata": {
            "tags": []
          },
          "execution_count": 15
        }
      ]
    },
    {
      "cell_type": "code",
      "metadata": {
        "colab": {
          "base_uri": "https://localhost:8080/",
          "height": 295
        },
        "id": "D40Zq0usI3e2",
        "outputId": "41cd6557-18b4-4c98-8534-876cceabd890"
      },
      "source": [
        "plt.plot(df[\"Epoch\"], df[\"Train loss\"])\n",
        "plt.plot(df[\"Epoch\"], df[\"Val loss\"])\n",
        "plt.title(\"Loss evolution\")\n",
        "plt.ylabel(\"Loss\")\n",
        "plt.xlabel(\"Epoch\")\n",
        "plt.legend([\"Train\", \"Validation\"])\n",
        "plt.show()"
      ],
      "execution_count": 16,
      "outputs": [
        {
          "output_type": "display_data",
          "data": {
            "image/png": "[encoded data removed]",
            "text/plain": [
              "<Figure size 432x288 with 1 Axes>"
            ]
          },
          "metadata": {
            "tags": [],
            "needs_background": "light"
          }
        }
      ]
    },
    {
      "cell_type": "code",
      "metadata": {
        "colab": {
          "base_uri": "https://localhost:8080/",
          "height": 295
        },
        "id": "jN-wFiySI5YK",
        "outputId": "1ad7b827-230d-4a06-d5db-dc689645843a"
      },
      "source": [
        "plt.plot(df[\"Epoch\"], df[\"Train metric\"])\n",
        "plt.plot(df[\"Epoch\"], df[\"Val metric\"])\n",
        "plt.title(\"Metric evolution\")\n",
        "plt.ylabel(\"Metric\")\n",
        "plt.xlabel(\"Epoch\")\n",
        "plt.legend([\"Train\", \"Validation\"])\n",
        "plt.show()"
      ],
      "execution_count": 17,
      "outputs": [
        {
          "output_type": "display_data",
          "data": {
            "image/png": "[encoded data removed]",
            "text/plain": [
              "<Figure size 432x288 with 1 Axes>"
            ]
          },
          "metadata": {
            "tags": [],
            "needs_background": "light"
          }
        }
      ]
    },
    {
      "cell_type": "markdown",
      "metadata": {
        "id": "SfsbHIFBJGjm"
      },
      "source": [
        "## Determinação dos fatores de risco"
      ]
    },
    {
      "cell_type": "code",
      "metadata": {
        "id": "W8BCUDdTBiGJ"
      },
      "source": [
        "weights = (list(LR.parameters())[0].data).numpy()"
      ],
      "execution_count": 18,
      "outputs": []
    },
    {
      "cell_type": "code",
      "metadata": {
        "id": "X2j0dAvNJLwm"
      },
      "source": [
        "risk_factors = pd.DataFrame(weights, columns=diabetes_dataset.columns[:-1])\n",
        "risk_factors = risk_factors.T\n",
        "risk_factors.columns = [\"FACTORS\"]"
      ],
      "execution_count": 19,
      "outputs": []
    },
    {
      "cell_type": "code",
      "metadata": {
        "colab": {
          "base_uri": "https://localhost:8080/",
          "height": 265
        },
        "id": "dMPJLUtuJUkF",
        "outputId": "a1fb32a8-e285-4e73-8c20-045bc6efd16e"
      },
      "source": [
        "risk_factors.plot(kind=\"barh\")\n",
        "plt.show()"
      ],
      "execution_count": 20,
      "outputs": [
        {
          "output_type": "display_data",
          "data": {
            "image/png": "[encoded data removed]",
            "text/plain": [
              "<Figure size 432x288 with 1 Axes>"
            ]
          },
          "metadata": {
            "tags": [],
            "needs_background": "light"
          }
        }
      ]
    }
  ]
}